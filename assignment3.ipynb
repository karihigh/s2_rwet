{
 "cells": [
  {
   "cell_type": "markdown",
   "metadata": {},
   "source": [
    "## Matrix reversed\n",
    "### Digital Cut-Up\n",
    "Lately I have been feeling a little bit like *Neo* in *The Matrix*. Learning how to use my computer's console and do things that I would've done manually before (or haven't even done before) feels exactly like the aesthetics of one of my favourite movies. [Check out this instagram post](https://media.giphy.com/media/42AQTMG7Chd6Wk56op/giphy.gif). \n",
    "Also, I have been collecting the scripts of movies that I really enjoyed whenever I found them. So I scavenged for *The Matrix* script and started reading it thoroughly. I could recall perfectly the beggining scene while reading the stage directions of the film. I copied and pasted the paragraphs into a plain text and started. "
   ]
  },
  {
   "cell_type": "code",
   "execution_count": 57,
   "metadata": {},
   "outputs": [],
   "source": [
    "matrix = open(\"matrix.txt\").read()"
   ]
  },
  {
   "cell_type": "code",
   "execution_count": 58,
   "metadata": {},
   "outputs": [
    {
     "data": {
      "text/plain": [
       "\"So close it has no boundaries.\\nA blinking cursor pulses in the electric darkness like a heart coursing with phosphorous light, burning beneath the derma of black-neon glass.\\nA PHONE begins to RING, we hear it as though we were making the call.  The cursor continues to throb,relentlessly patient, until --\\nWe listen to the phone conversation as though we were on a third line.  The man's name is CYPHER.\\nThe woman, TRINITY.\\nThe entire screen fills with racing columns of numbers. Shimmering like green-electric rivets, they rush at a 10-digit phone number in the top corner.\\nThe area code is identified.  The first three numbers suddenly fixed, leaving only seven flowing columns.\\nWe begin MOVING TOWARD the screen, CLOSING IN as each digit is matched, one by one, snapping into place likenthe wheels of a slot machine.\\nOnly two thin digits left.\\nThe final number pops into place --\\nWe MOVE STILL CLOSER, the ELECTRIC HUM of the green numbers GROWING INTO an OMINOUS ROAR.\\nShe hangs up as we PASS THROUGH the numbers, entering the netherworld of the computer screen.\\nWhere gradually the sound of a police radio grows around us.\\nSuddenly, a flashlight cuts open the darkness and we find ourselves in --\\nThe hotel was abandoned after a fire licked its way across the polyester carpeting, destroying several rooms as it spooled soot up the walls and ceiling leaving patterns of permanent shadow.\\n\\n\\t\""
      ]
     },
     "execution_count": 58,
     "metadata": {},
     "output_type": "execute_result"
    }
   ],
   "source": [
    "matrix"
   ]
  },
  {
   "cell_type": "code",
   "execution_count": 7,
   "metadata": {},
   "outputs": [],
   "source": [
    "matrix_lines = open(\"matrix.txt\").read().split(\"\\n\")"
   ]
  },
  {
   "cell_type": "code",
   "execution_count": 8,
   "metadata": {},
   "outputs": [
    {
     "data": {
      "text/plain": [
       "['So close it has no boundaries.',\n",
       " '',\n",
       " '\\tA blinking cursor pulses in the electric darkness like a',\n",
       " '\\theart coursing with phosphorous light, burning beneath',\n",
       " '\\tthe derma of black-neon glass.',\n",
       " '',\n",
       " '\\tA PHONE begins to RING, we hear it as though we were ',\n",
       " '\\tmaking the call.  The cursor continues to throb,',\n",
       " '\\trelentlessly patient, until --',\n",
       " 'We listen to the phone conversation as though we were on',\n",
       " \"\\ta third line.  The man's name is CYPHER.  The woman, \",\n",
       " '\\tTRINITY.',\n",
       " 'The entire screen fills with racing columns of numbers.',\n",
       " '\\tShimmering like green-electric rivets, they rush at a 10-',\n",
       " '\\tdigit phone number in the top corner.',\n",
       " 'The area code is identified.  The first three numbers',\n",
       " '\\tsuddenly fixed, leaving only seven flowing columns.',\n",
       " '',\n",
       " '\\tWe begin MOVING TOWARD the screen, CLOSING IN as each ',\n",
       " '\\tdigit is matched, one by one, snapping into place like',\n",
       " '\\tthe wheels of a slot machine.',\n",
       " 'Only two thin digits left.',\n",
       " 'The final number pops into place --',\n",
       " 'We MOVE STILL CLOSER, the ELECTRIC HUM of the green ',\n",
       " '\\tnumbers GROWING INTO an OMINOUS ROAR.',\n",
       " '',\n",
       " 'She hangs up as we PASS THROUGH the numbers, entering the',\n",
       " '\\tnetherworld of the computer screen.',\n",
       " '',\n",
       " '\\tWhere gradually the sound of a police radio grows around ',\n",
       " '\\tus.',\n",
       " 'Suddenly, a flashlight cuts open the darkness and we find',\n",
       " '\\tourselves in --',\n",
       " 'The hotel was abandoned after a fire licked its way ',\n",
       " '\\tacross the polyester carpeting, destroying several rooms ',\n",
       " '\\tas it spooled soot up the walls and ceiling leaving ',\n",
       " '\\tpatterns of permanent shadow.',\n",
       " '',\n",
       " '\\tWe FOLLOW four armed POLICE officers using flashlights as ',\n",
       " '\\tthey creep down the blackened hall and ready themselves',\n",
       " '\\ton either side of room 303.',\n",
       " '',\n",
       " '\\tThe biggest of them violently kicks in the door --',\n",
       " '',\n",
       " '\\tThe other cops pour in behind him, guns thrust before',\n",
       " '\\tthem.',\n",
       " 'The room is almost devoid of furniture.  There is a fold-',\n",
       " '\\tup table and chair with a phone, a modern, and a powerbook ',\n",
       " '\\tcomputer.  The only light in the room is the glow of the',\n",
       " '\\tcomputer.',\n",
       " '',\n",
       " '\\tSitting there, her hands still on the keyboard, is ',\n",
       " '\\tTRINITY; a woman in black leather.',\n",
       " 'Trinity rises.',\n",
       " 'She slowly puts her hands behind her head.',\n",
       " 'A black sedan with tinted windows glides in through the ',\n",
       " '\\tpolice cruisers.',\n",
       " '',\n",
       " '\\tAGENT SMITH and AGENT BROWN get out of the car.',\n",
       " '',\n",
       " '\\tThey wear dark suits and sunglasses even at night.  They ',\n",
       " '\\tare also always hardwired; small Secret Service earphones ',\n",
       " '\\tin one ear, its cord coiling back into their shirt',\n",
       " '\\tcollars.',\n",
       " '',\n",
       " 'The Lieutenant laughs.',\n",
       " 'Agent Smith nods to Agent Brown as they start toward the',\n",
       " '\\thotel.',\n",
       " '',\n",
       " 'The Big Cop flicks out his cuffs, the other cops holding ',\n",
       " \"\\ta bead.  They've done this a hundred times, they know \",\n",
       " \"\\tthey've got her, until the Big Cop reaches with the cuff \",\n",
       " '\\tand Trinity moves --',\n",
       " '',\n",
       " \"\\tIt almost doesn't register, so smooth and fast, inhumanly \",\n",
       " '\\tfast.',\n",
       " '',\n",
       " \"\\tThe eye blinks and Trinity's palm. snaps up and the nose \",\n",
       " '\\texplodes, blood erupting.  The cop is dead before he',\n",
       " '\\tbegins to fall.',\n",
       " '',\n",
       " '\\tAnd Trinity is moving again --',\n",
       " '',\n",
       " '\\tSeizing a wrist, misdirecting a gun, as a startled cop ',\n",
       " '\\tFIRES --',\n",
       " '',\n",
       " '\\tA head explodes.',\n",
       " '',\n",
       " '\\tIn blind panic, another airs his gun, the barrel, a fixed ',\n",
       " '\\tblack hole --',\n",
       " '',\n",
       " '\\tAnd FIRES --',\n",
       " '',\n",
       " '\\tTrinity twists out of the way, the bullet missing as she ',\n",
       " '\\treverses into a roundhouse kick, knocking the gun away.',\n",
       " '',\n",
       " '\\tThe cop begins to scream when a jump kick crushes his ',\n",
       " '\\twindpipe, killing the scream as he falls to the ground.',\n",
       " '',\n",
       " '\\tShe looks at the four bodies.']"
      ]
     },
     "execution_count": 8,
     "metadata": {},
     "output_type": "execute_result"
    }
   ],
   "source": [
    "matrix_lines"
   ]
  },
  {
   "cell_type": "code",
   "execution_count": 60,
   "metadata": {},
   "outputs": [],
   "source": [
    "matrix = [line.strip() for line in open(\"matrix.txt\")]"
   ]
  },
  {
   "cell_type": "code",
   "execution_count": 61,
   "metadata": {},
   "outputs": [
    {
     "data": {
      "text/plain": [
       "['So close it has no boundaries.',\n",
       " 'A blinking cursor pulses in the electric darkness like a heart coursing with phosphorous light, burning beneath the derma of black-neon glass.',\n",
       " 'A PHONE begins to RING, we hear it as though we were making the call.  The cursor continues to throb,relentlessly patient, until --',\n",
       " \"We listen to the phone conversation as though we were on a third line.  The man's name is CYPHER.\",\n",
       " 'The woman, TRINITY.',\n",
       " 'The entire screen fills with racing columns of numbers. Shimmering like green-electric rivets, they rush at a 10-digit phone number in the top corner.',\n",
       " 'The area code is identified.  The first three numbers suddenly fixed, leaving only seven flowing columns.',\n",
       " 'We begin MOVING TOWARD the screen, CLOSING IN as each digit is matched, one by one, snapping into place likenthe wheels of a slot machine.',\n",
       " 'Only two thin digits left.',\n",
       " 'The final number pops into place --',\n",
       " 'We MOVE STILL CLOSER, the ELECTRIC HUM of the green numbers GROWING INTO an OMINOUS ROAR.',\n",
       " 'She hangs up as we PASS THROUGH the numbers, entering the netherworld of the computer screen.',\n",
       " 'Where gradually the sound of a police radio grows around us.',\n",
       " 'Suddenly, a flashlight cuts open the darkness and we find ourselves in --',\n",
       " 'The hotel was abandoned after a fire licked its way across the polyester carpeting, destroying several rooms as it spooled soot up the walls and ceiling leaving patterns of permanent shadow.',\n",
       " '',\n",
       " '']"
      ]
     },
     "execution_count": 61,
     "metadata": {},
     "output_type": "execute_result"
    }
   ],
   "source": [
    "matrix"
   ]
  },
  {
   "cell_type": "code",
   "execution_count": 18,
   "metadata": {},
   "outputs": [
    {
     "data": {
      "text/plain": [
       "'A blinking cursor pulses in the electric darkness like a heart coursing with phosphorous light, burning beneath the derma of black-neon glass.'"
      ]
     },
     "execution_count": 18,
     "metadata": {},
     "output_type": "execute_result"
    }
   ],
   "source": [
    "matrix[1]"
   ]
  },
  {
   "cell_type": "code",
   "execution_count": 19,
   "metadata": {},
   "outputs": [],
   "source": [
    "import random"
   ]
  },
  {
   "cell_type": "code",
   "execution_count": 20,
   "metadata": {},
   "outputs": [
    {
     "data": {
      "text/plain": [
       "['So close it has no boundaries.',\n",
       " 'A blinking cursor pulses in the electric darkness like a heart coursing with phosphorous light, burning beneath the derma of black-neon glass.',\n",
       " 'A PHONE begins to RING, we hear it as though we were making the call.  The cursor continues to throb,relentlessly patient, until --',\n",
       " \"We listen to the phone conversation as though we were on a third line.  The man's name is CYPHER.\",\n",
       " 'The woman, TRINITY.',\n",
       " 'The entire screen fills with racing columns of numbers. Shimmering like green-electric rivets, they rush at a 10-digit phone number in the top corner.',\n",
       " 'The area code is identified.  The first three numbers suddenly fixed, leaving only seven flowing columns.',\n",
       " 'We begin MOVING TOWARD the screen, CLOSING IN as each digit is matched, one by one, snapping into place likenthe wheels of a slot machine.',\n",
       " 'Only two thin digits left.',\n",
       " 'The final number pops into place --',\n",
       " 'We MOVE STILL CLOSER, the ELECTRIC HUM of the green numbers GROWING INTO an OMINOUS ROAR.',\n",
       " 'She hangs up as we PASS THROUGH the numbers, entering the netherworld of the computer screen.',\n",
       " 'Where gradually the sound of a police radio grows around us.',\n",
       " 'Suddenly, a flashlight cuts open the darkness and we find ourselves in --',\n",
       " 'The hotel was abandoned after a fire licked its way across the polyester carpeting, destroying several rooms as it spooled soot up the walls and ceiling leaving patterns of permanent shadow.',\n",
       " '',\n",
       " '']"
      ]
     },
     "execution_count": 20,
     "metadata": {},
     "output_type": "execute_result"
    }
   ],
   "source": [
    "random.choice([matrix])"
   ]
  },
  {
   "cell_type": "code",
   "execution_count": 21,
   "metadata": {},
   "outputs": [
    {
     "data": {
      "text/plain": [
       "['She hangs up as we PASS THROUGH the numbers, entering the netherworld of the computer screen.']"
      ]
     },
     "execution_count": 21,
     "metadata": {},
     "output_type": "execute_result"
    }
   ],
   "source": [
    "random.sample(matrix, 1)"
   ]
  },
  {
   "cell_type": "markdown",
   "metadata": {},
   "source": [
    "> To assign the lines of stage directions to a character and convert it into a dialogue I copied from the original script all the characters that speak until Neo says his first line."
   ]
  },
  {
   "cell_type": "code",
   "execution_count": 25,
   "metadata": {},
   "outputs": [],
   "source": [
    "char = [line.strip() for line in open(\"characters.txt\")]"
   ]
  },
  {
   "cell_type": "code",
   "execution_count": 26,
   "metadata": {},
   "outputs": [
    {
     "data": {
      "text/plain": [
       "['SCREEN',\n",
       " 'WOMAN',\n",
       " 'CYPHER',\n",
       " 'TRINITY',\n",
       " 'RADIO',\n",
       " 'BIG COP',\n",
       " 'AGENT SMITH',\n",
       " 'LIEUTENANT',\n",
       " 'MAN',\n",
       " 'MORPHEUS',\n",
       " 'COP',\n",
       " 'AGENT JONES',\n",
       " 'NEO',\n",
       " 'ANTHONY',\n",
       " 'DUJOUR']"
      ]
     },
     "execution_count": 26,
     "metadata": {},
     "output_type": "execute_result"
    }
   ],
   "source": [
    "char"
   ]
  },
  {
   "cell_type": "code",
   "execution_count": 28,
   "metadata": {},
   "outputs": [
    {
     "data": {
      "text/plain": [
       "['ANTHONY']"
      ]
     },
     "execution_count": 28,
     "metadata": {},
     "output_type": "execute_result"
    }
   ],
   "source": [
    "random.sample(char, 1)"
   ]
  },
  {
   "cell_type": "code",
   "execution_count": 29,
   "metadata": {},
   "outputs": [
    {
     "ename": "AttributeError",
     "evalue": "'list' object has no attribute 'join'",
     "output_type": "error",
     "traceback": [
      "\u001b[0;31m---------------------------------------------------------------------------\u001b[0m",
      "\u001b[0;31mAttributeError\u001b[0m                            Traceback (most recent call last)",
      "\u001b[0;32m<ipython-input-29-e28beff8e293>\u001b[0m in \u001b[0;36m<module>\u001b[0;34m\u001b[0m\n\u001b[0;32m----> 1\u001b[0;31m \u001b[0mrandom\u001b[0m\u001b[0;34m.\u001b[0m\u001b[0msample\u001b[0m\u001b[0;34m(\u001b[0m\u001b[0mchar\u001b[0m\u001b[0;34m,\u001b[0m \u001b[0;36m1\u001b[0m\u001b[0;34m)\u001b[0m\u001b[0;34m.\u001b[0m\u001b[0mjoin\u001b[0m\u001b[0;34m(\u001b[0m\u001b[0;34m(\u001b[0m\u001b[0mrandom\u001b[0m\u001b[0;34m.\u001b[0m\u001b[0msample\u001b[0m\u001b[0;34m(\u001b[0m\u001b[0mmatrix\u001b[0m\u001b[0;34m,\u001b[0m \u001b[0;36m1\u001b[0m\u001b[0;34m)\u001b[0m\u001b[0;34m)\u001b[0m\u001b[0;34m)\u001b[0m\u001b[0;34m\u001b[0m\u001b[0;34m\u001b[0m\u001b[0m\n\u001b[0m",
      "\u001b[0;31mAttributeError\u001b[0m: 'list' object has no attribute 'join'"
     ]
    }
   ],
   "source": [
    "random.sample(char, 1).join((random.sample(matrix, 1)))"
   ]
  },
  {
   "cell_type": "code",
   "execution_count": 30,
   "metadata": {},
   "outputs": [
    {
     "ename": "AttributeError",
     "evalue": "'list' object has no attribute 'join'",
     "output_type": "error",
     "traceback": [
      "\u001b[0;31m---------------------------------------------------------------------------\u001b[0m",
      "\u001b[0;31mAttributeError\u001b[0m                            Traceback (most recent call last)",
      "\u001b[0;32m<ipython-input-30-4459c232cfb8>\u001b[0m in \u001b[0;36m<module>\u001b[0;34m\u001b[0m\n\u001b[0;32m----> 1\u001b[0;31m \u001b[0mchar\u001b[0m\u001b[0;34m.\u001b[0m\u001b[0mjoin\u001b[0m\u001b[0;34m(\u001b[0m\u001b[0mmatrix\u001b[0m\u001b[0;34m)\u001b[0m\u001b[0;34m\u001b[0m\u001b[0;34m\u001b[0m\u001b[0m\n\u001b[0m",
      "\u001b[0;31mAttributeError\u001b[0m: 'list' object has no attribute 'join'"
     ]
    }
   ],
   "source": [
    "char.join(matrix)"
   ]
  },
  {
   "cell_type": "code",
   "execution_count": 42,
   "metadata": {},
   "outputs": [],
   "source": [
    "glue = \"random.sample(char, 1)\""
   ]
  },
  {
   "cell_type": "code",
   "execution_count": 43,
   "metadata": {},
   "outputs": [
    {
     "data": {
      "text/plain": [
       "\"So close it has no boundaries.random.sample(char, 1)A blinking cursor pulses in the electric darkness like a heart coursing with phosphorous light, burning beneath the derma of black-neon glass.random.sample(char, 1)A PHONE begins to RING, we hear it as though we were making the call.  The cursor continues to throb,relentlessly patient, until --random.sample(char, 1)We listen to the phone conversation as though we were on a third line.  The man's name is CYPHER.random.sample(char, 1)The woman, TRINITY.random.sample(char, 1)The entire screen fills with racing columns of numbers. Shimmering like green-electric rivets, they rush at a 10-digit phone number in the top corner.random.sample(char, 1)The area code is identified.  The first three numbers suddenly fixed, leaving only seven flowing columns.random.sample(char, 1)We begin MOVING TOWARD the screen, CLOSING IN as each digit is matched, one by one, snapping into place likenthe wheels of a slot machine.random.sample(char, 1)Only two thin digits left.random.sample(char, 1)The final number pops into place --random.sample(char, 1)We MOVE STILL CLOSER, the ELECTRIC HUM of the green numbers GROWING INTO an OMINOUS ROAR.random.sample(char, 1)She hangs up as we PASS THROUGH the numbers, entering the netherworld of the computer screen.random.sample(char, 1)Where gradually the sound of a police radio grows around us.random.sample(char, 1)Suddenly, a flashlight cuts open the darkness and we find ourselves in --random.sample(char, 1)The hotel was abandoned after a fire licked its way across the polyester carpeting, destroying several rooms as it spooled soot up the walls and ceiling leaving patterns of permanent shadow.random.sample(char, 1)random.sample(char, 1)\""
      ]
     },
     "execution_count": 43,
     "metadata": {},
     "output_type": "execute_result"
    }
   ],
   "source": [
    "glue.join(matrix)"
   ]
  },
  {
   "cell_type": "code",
   "execution_count": 33,
   "metadata": {},
   "outputs": [],
   "source": [
    "glue = random.sample(char, 1)"
   ]
  },
  {
   "cell_type": "code",
   "execution_count": 34,
   "metadata": {},
   "outputs": [
    {
     "data": {
      "text/plain": [
       "['LIEUTENANT']"
      ]
     },
     "execution_count": 34,
     "metadata": {},
     "output_type": "execute_result"
    }
   ],
   "source": [
    "glue"
   ]
  },
  {
   "cell_type": "code",
   "execution_count": 59,
   "metadata": {},
   "outputs": [
    {
     "data": {
      "text/plain": [
       "\"So close it has no boundaries.\\nA blinking cursor pulses in the electric darkness like a heart coursing with phosphorous light, burning beneath the derma of black-neon glass.\\nA PHONE begins to RING, we hear it as though we were making the call.  The cursor continues to throb,relentlessly patient, until --\\nWe listen to the phone conversation as though we were on a third line.  The man's name is CYPHER.\\nThe woman, TRINITY.\\nThe entire screen fills with racing columns of numbers. Shimmering like green-electric rivets, they rush at a 10-digit phone number in the top corner.\\nThe area code is identified.  The first three numbers suddenly fixed, leaving only seven flowing columns.\\nWe begin MOVING TOWARD the screen, CLOSING IN as each digit is matched, one by one, snapping into place likenthe wheels of a slot machine.\\nOnly two thin digits left.\\nThe final number pops into place --\\nWe MOVE STILL CLOSER, the ELECTRIC HUM of the green numbers GROWING INTO an OMINOUS ROAR.\\nShe hangs up as we PASS THROUGH the numbers, entering the netherworld of the computer screen.\\nWhere gradually the sound of a police radio grows around us.\\nSuddenly, a flashlight cuts open the darkness and we find ourselves in --\\nThe hotel was abandoned after a fire licked its way across the polyester carpeting, destroying several rooms as it spooled soot up the walls and ceiling leaving patterns of permanent shadow.\\n\\n\\t\""
      ]
     },
     "execution_count": 59,
     "metadata": {},
     "output_type": "execute_result"
    }
   ],
   "source": [
    "matrix"
   ]
  },
  {
   "cell_type": "code",
   "execution_count": 45,
   "metadata": {},
   "outputs": [
    {
     "data": {
      "text/plain": [
       "'The woman, TRINITY.'"
      ]
     },
     "execution_count": 45,
     "metadata": {},
     "output_type": "execute_result"
    }
   ],
   "source": [
    "matrix[4]"
   ]
  },
  {
   "cell_type": "code",
   "execution_count": 46,
   "metadata": {},
   "outputs": [
    {
     "data": {
      "text/plain": [
       "'CYPHERWe begin MOVING TOWARD the screen, CLOSING IN as each digit is matched, one by one, snapping into place likenthe wheels of a slot machine.'"
      ]
     },
     "execution_count": 46,
     "metadata": {},
     "output_type": "execute_result"
    }
   ],
   "source": [
    "char[2] + matrix [7]"
   ]
  },
  {
   "cell_type": "code",
   "execution_count": 62,
   "metadata": {},
   "outputs": [
    {
     "data": {
      "text/plain": [
       "'CYPHER\\nWe begin MOVING TOWARD the screen, CLOSING IN as each digit is matched, one by one, snapping into place likenthe wheels of a slot machine.'"
      ]
     },
     "execution_count": 62,
     "metadata": {},
     "output_type": "execute_result"
    }
   ],
   "source": [
    "char[2] + \"\\n\" + matrix [7]"
   ]
  },
  {
   "cell_type": "code",
   "execution_count": 63,
   "metadata": {},
   "outputs": [
    {
     "name": "stdout",
     "output_type": "stream",
     "text": [
      "RADIO\n",
      "A PHONE begins to RING, we hear it as though we were making the call.  The cursor continues to throb,relentlessly patient, until --\n"
     ]
    }
   ],
   "source": [
    "print(char[4] + \"\\n\" + matrix [2])"
   ]
  },
  {
   "cell_type": "code",
   "execution_count": 65,
   "metadata": {},
   "outputs": [
    {
     "data": {
      "text/plain": [
       "['LIEUTENANT', 'Only two thin digits left.']"
      ]
     },
     "execution_count": 65,
     "metadata": {},
     "output_type": "execute_result"
    }
   ],
   "source": [
    "random.sample(char, 1) + random.sample(matrix, 1)"
   ]
  },
  {
   "cell_type": "code",
   "execution_count": 67,
   "metadata": {},
   "outputs": [
    {
     "ename": "TypeError",
     "evalue": "can only concatenate list (not \"str\") to list",
     "output_type": "error",
     "traceback": [
      "\u001b[0;31m---------------------------------------------------------------------------\u001b[0m",
      "\u001b[0;31mTypeError\u001b[0m                                 Traceback (most recent call last)",
      "\u001b[0;32m<ipython-input-67-8b8b8398afd0>\u001b[0m in \u001b[0;36m<module>\u001b[0;34m\u001b[0m\n\u001b[0;32m----> 1\u001b[0;31m \u001b[0mprint\u001b[0m\u001b[0;34m(\u001b[0m\u001b[0mrandom\u001b[0m\u001b[0;34m.\u001b[0m\u001b[0msample\u001b[0m\u001b[0;34m(\u001b[0m\u001b[0mchar\u001b[0m\u001b[0;34m,\u001b[0m \u001b[0;36m1\u001b[0m\u001b[0;34m)\u001b[0m \u001b[0;34m+\u001b[0m \u001b[0;34m\"/n\"\u001b[0m \u001b[0;34m+\u001b[0m \u001b[0mrandom\u001b[0m\u001b[0;34m.\u001b[0m\u001b[0msample\u001b[0m\u001b[0;34m(\u001b[0m\u001b[0mmatrix\u001b[0m\u001b[0;34m,\u001b[0m \u001b[0;36m1\u001b[0m\u001b[0;34m)\u001b[0m\u001b[0;34m)\u001b[0m\u001b[0;34m\u001b[0m\u001b[0;34m\u001b[0m\u001b[0m\n\u001b[0m",
      "\u001b[0;31mTypeError\u001b[0m: can only concatenate list (not \"str\") to list"
     ]
    }
   ],
   "source": [
    "print(random.sample(char, 1) + \"/n\" + random.sample(matrix, 1))"
   ]
  },
  {
   "cell_type": "code",
   "execution_count": 69,
   "metadata": {},
   "outputs": [
    {
     "ename": "SyntaxError",
     "evalue": "invalid character in identifier (<ipython-input-69-461f2ac1ae4b>, line 1)",
     "output_type": "error",
     "traceback": [
      "\u001b[0;36m  File \u001b[0;32m\"<ipython-input-69-461f2ac1ae4b>\"\u001b[0;36m, line \u001b[0;32m1\u001b[0m\n\u001b[0;31m    print (random.sample(char,1), end = ‘’)\u001b[0m\n\u001b[0m                                         ^\u001b[0m\n\u001b[0;31mSyntaxError\u001b[0m\u001b[0;31m:\u001b[0m invalid character in identifier\n"
     ]
    }
   ],
   "source": [
    "print (random.sample(char,1), end = ‘’)\n",
    "print (random.sample(matrix,1))"
   ]
  },
  {
   "cell_type": "code",
   "execution_count": 70,
   "metadata": {},
   "outputs": [
    {
     "ename": "TypeError",
     "evalue": "can only concatenate list (not \"str\") to list",
     "output_type": "error",
     "traceback": [
      "\u001b[0;31m---------------------------------------------------------------------------\u001b[0m",
      "\u001b[0;31mTypeError\u001b[0m                                 Traceback (most recent call last)",
      "\u001b[0;32m<ipython-input-70-3b964a879619>\u001b[0m in \u001b[0;36m<module>\u001b[0;34m\u001b[0m\n\u001b[0;32m----> 1\u001b[0;31m \u001b[0mrandom\u001b[0m\u001b[0;34m.\u001b[0m\u001b[0msample\u001b[0m\u001b[0;34m(\u001b[0m\u001b[0mchar\u001b[0m\u001b[0;34m,\u001b[0m \u001b[0;36m1\u001b[0m\u001b[0;34m)\u001b[0m \u001b[0;34m+\u001b[0m \u001b[0;34m\"\\n\"\u001b[0m \u001b[0;34m+\u001b[0m \u001b[0mrandom\u001b[0m\u001b[0;34m.\u001b[0m\u001b[0msample\u001b[0m\u001b[0;34m(\u001b[0m\u001b[0mmatrix\u001b[0m\u001b[0;34m,\u001b[0m \u001b[0;36m1\u001b[0m\u001b[0;34m)\u001b[0m\u001b[0;34m\u001b[0m\u001b[0;34m\u001b[0m\u001b[0m\n\u001b[0m",
      "\u001b[0;31mTypeError\u001b[0m: can only concatenate list (not \"str\") to list"
     ]
    }
   ],
   "source": [
    "random.sample(char, 1) + \"\\n\" + random.sample(matrix, 1)"
   ]
  },
  {
   "cell_type": "markdown",
   "metadata": {},
   "source": [
    "> After many attempts to glue a random character to a random stage direction I achieved this:"
   ]
  },
  {
   "cell_type": "code",
   "execution_count": 71,
   "metadata": {},
   "outputs": [
    {
     "name": "stdout",
     "output_type": "stream",
     "text": [
      "['WOMAN']\n",
      "['We MOVE STILL CLOSER, the ELECTRIC HUM of the green numbers GROWING INTO an OMINOUS ROAR.']\n"
     ]
    }
   ],
   "source": [
    "print (random.sample(char,1))\n",
    "print (random.sample(matrix,1))"
   ]
  },
  {
   "cell_type": "code",
   "execution_count": 72,
   "metadata": {},
   "outputs": [
    {
     "data": {
      "text/plain": [
       "15"
      ]
     },
     "execution_count": 72,
     "metadata": {},
     "output_type": "execute_result"
    }
   ],
   "source": [
    "len(char)"
   ]
  },
  {
   "cell_type": "code",
   "execution_count": 73,
   "metadata": {},
   "outputs": [
    {
     "name": "stdout",
     "output_type": "stream",
     "text": [
      "['BIG COP']\n",
      "[\"We listen to the phone conversation as though we were on a third line.  The man's name is CYPHER.\"]\n",
      "['RADIO']\n",
      "['Suddenly, a flashlight cuts open the darkness and we find ourselves in --']\n",
      "['TRINITY']\n",
      "['The final number pops into place --']\n",
      "['LIEUTENANT']\n",
      "['The final number pops into place --']\n",
      "['LIEUTENANT']\n",
      "['A blinking cursor pulses in the electric darkness like a heart coursing with phosphorous light, burning beneath the derma of black-neon glass.']\n",
      "['WOMAN']\n",
      "['She hangs up as we PASS THROUGH the numbers, entering the netherworld of the computer screen.']\n",
      "['AGENT SMITH']\n",
      "['We MOVE STILL CLOSER, the ELECTRIC HUM of the green numbers GROWING INTO an OMINOUS ROAR.']\n",
      "['WOMAN']\n",
      "['The entire screen fills with racing columns of numbers. Shimmering like green-electric rivets, they rush at a 10-digit phone number in the top corner.']\n",
      "['NEO']\n",
      "['Where gradually the sound of a police radio grows around us.']\n",
      "['RADIO']\n",
      "['Where gradually the sound of a police radio grows around us.']\n",
      "['NEO']\n",
      "['The final number pops into place --']\n",
      "['NEO']\n",
      "['The final number pops into place --']\n",
      "['CYPHER']\n",
      "['A PHONE begins to RING, we hear it as though we were making the call.  The cursor continues to throb,relentlessly patient, until --']\n",
      "['ANTHONY']\n",
      "['She hangs up as we PASS THROUGH the numbers, entering the netherworld of the computer screen.']\n",
      "['AGENT JONES']\n",
      "['A PHONE begins to RING, we hear it as though we were making the call.  The cursor continues to throb,relentlessly patient, until --']\n"
     ]
    }
   ],
   "source": [
    "for i in range(15):\n",
    "    print(random.sample(char,1))\n",
    "    print(random.sample(matrix,1))"
   ]
  },
  {
   "cell_type": "code",
   "execution_count": 74,
   "metadata": {},
   "outputs": [
    {
     "name": "stdout",
     "output_type": "stream",
     "text": [
      "['AGENT SMITH']\n",
      "['The area code is identified.  The first three numbers suddenly fixed, leaving only seven flowing columns.', 'A blinking cursor pulses in the electric darkness like a heart coursing with phosphorous light, burning beneath the derma of black-neon glass.']\n",
      "['WOMAN']\n",
      "['The woman, TRINITY.', '']\n",
      "['NEO']\n",
      "['Only two thin digits left.', 'The final number pops into place --']\n",
      "['TRINITY']\n",
      "['The entire screen fills with racing columns of numbers. Shimmering like green-electric rivets, they rush at a 10-digit phone number in the top corner.', 'A PHONE begins to RING, we hear it as though we were making the call.  The cursor continues to throb,relentlessly patient, until --']\n",
      "['AGENT JONES']\n",
      "['The woman, TRINITY.', '']\n",
      "['COP']\n",
      "['We begin MOVING TOWARD the screen, CLOSING IN as each digit is matched, one by one, snapping into place likenthe wheels of a slot machine.', 'The woman, TRINITY.']\n",
      "['BIG COP']\n",
      "['The hotel was abandoned after a fire licked its way across the polyester carpeting, destroying several rooms as it spooled soot up the walls and ceiling leaving patterns of permanent shadow.', 'Suddenly, a flashlight cuts open the darkness and we find ourselves in --']\n",
      "['NEO']\n",
      "['Only two thin digits left.', 'The area code is identified.  The first three numbers suddenly fixed, leaving only seven flowing columns.']\n",
      "['AGENT JONES']\n",
      "['She hangs up as we PASS THROUGH the numbers, entering the netherworld of the computer screen.', 'A blinking cursor pulses in the electric darkness like a heart coursing with phosphorous light, burning beneath the derma of black-neon glass.']\n",
      "['NEO']\n",
      "['The entire screen fills with racing columns of numbers. Shimmering like green-electric rivets, they rush at a 10-digit phone number in the top corner.', \"We listen to the phone conversation as though we were on a third line.  The man's name is CYPHER.\"]\n",
      "['NEO']\n",
      "['So close it has no boundaries.', 'We MOVE STILL CLOSER, the ELECTRIC HUM of the green numbers GROWING INTO an OMINOUS ROAR.']\n",
      "['MORPHEUS']\n",
      "['The area code is identified.  The first three numbers suddenly fixed, leaving only seven flowing columns.', '']\n",
      "['BIG COP']\n",
      "['', 'Suddenly, a flashlight cuts open the darkness and we find ourselves in --']\n",
      "['LIEUTENANT']\n",
      "['Where gradually the sound of a police radio grows around us.', 'The hotel was abandoned after a fire licked its way across the polyester carpeting, destroying several rooms as it spooled soot up the walls and ceiling leaving patterns of permanent shadow.']\n",
      "['AGENT JONES']\n",
      "['The hotel was abandoned after a fire licked its way across the polyester carpeting, destroying several rooms as it spooled soot up the walls and ceiling leaving patterns of permanent shadow.', 'We begin MOVING TOWARD the screen, CLOSING IN as each digit is matched, one by one, snapping into place likenthe wheels of a slot machine.']\n"
     ]
    }
   ],
   "source": [
    "for i in range(15):\n",
    "    print(random.sample(char,1))\n",
    "    print(random.sample(matrix,2))"
   ]
  },
  {
   "cell_type": "code",
   "execution_count": 76,
   "metadata": {},
   "outputs": [
    {
     "name": "stdout",
     "output_type": "stream",
     "text": [
      "['LIEUTENANT']\n",
      "['The woman, TRINITY.']\n",
      "['SCREEN']\n",
      "['A blinking cursor pulses in the electric darkness like a heart coursing with phosphorous light, burning beneath the derma of black-neon glass.']\n",
      "['COP']\n",
      "['We begin MOVING TOWARD the screen, CLOSING IN as each digit is matched, one by one, snapping into place likenthe wheels of a slot machine.']\n",
      "['MORPHEUS']\n",
      "['A blinking cursor pulses in the electric darkness like a heart coursing with phosphorous light, burning beneath the derma of black-neon glass.']\n",
      "['AGENT JONES']\n",
      "['So close it has no boundaries.']\n",
      "['BIG COP']\n",
      "['A PHONE begins to RING, we hear it as though we were making the call.  The cursor continues to throb,relentlessly patient, until --']\n",
      "['AGENT JONES']\n",
      "['The woman, TRINITY.']\n",
      "['COP']\n",
      "['A PHONE begins to RING, we hear it as though we were making the call.  The cursor continues to throb,relentlessly patient, until --']\n",
      "['AGENT JONES']\n",
      "['The area code is identified.  The first three numbers suddenly fixed, leaving only seven flowing columns.']\n",
      "['AGENT SMITH']\n",
      "['Only two thin digits left.']\n",
      "['NEO']\n",
      "['We begin MOVING TOWARD the screen, CLOSING IN as each digit is matched, one by one, snapping into place likenthe wheels of a slot machine.']\n",
      "['WOMAN']\n",
      "['The woman, TRINITY.']\n",
      "['CYPHER']\n",
      "['The woman, TRINITY.']\n",
      "['CYPHER']\n",
      "['The woman, TRINITY.']\n",
      "['COP']\n",
      "['A PHONE begins to RING, we hear it as though we were making the call.  The cursor continues to throb,relentlessly patient, until --']\n",
      "['ANTHONY']\n",
      "['The woman, TRINITY.']\n",
      "['DUJOUR']\n",
      "['She hangs up as we PASS THROUGH the numbers, entering the netherworld of the computer screen.']\n",
      "['AGENT JONES']\n",
      "['A PHONE begins to RING, we hear it as though we were making the call.  The cursor continues to throb,relentlessly patient, until --']\n",
      "['AGENT JONES']\n",
      "[\"We listen to the phone conversation as though we were on a third line.  The man's name is CYPHER.\"]\n",
      "['LIEUTENANT']\n",
      "['The entire screen fills with racing columns of numbers. Shimmering like green-electric rivets, they rush at a 10-digit phone number in the top corner.']\n"
     ]
    }
   ],
   "source": [
    "for i in range(20):\n",
    "    print(random.sample(char,1))\n",
    "    print(random.sample(matrix,1))"
   ]
  },
  {
   "cell_type": "code",
   "execution_count": 78,
   "metadata": {},
   "outputs": [
    {
     "ename": "TypeError",
     "evalue": "shuffle() takes from 2 to 3 positional arguments but 4 were given",
     "output_type": "error",
     "traceback": [
      "\u001b[0;31m---------------------------------------------------------------------------\u001b[0m",
      "\u001b[0;31mTypeError\u001b[0m                                 Traceback (most recent call last)",
      "\u001b[0;32m<ipython-input-78-9644d47dbd9b>\u001b[0m in \u001b[0;36m<module>\u001b[0;34m\u001b[0m\n\u001b[1;32m      1\u001b[0m \u001b[0;32mfor\u001b[0m \u001b[0mi\u001b[0m \u001b[0;32min\u001b[0m \u001b[0mrange\u001b[0m\u001b[0;34m(\u001b[0m\u001b[0;36m15\u001b[0m\u001b[0;34m)\u001b[0m\u001b[0;34m:\u001b[0m\u001b[0;34m\u001b[0m\u001b[0;34m\u001b[0m\u001b[0m\n\u001b[0;32m----> 2\u001b[0;31m     \u001b[0mprint\u001b[0m\u001b[0;34m(\u001b[0m\u001b[0mrandom\u001b[0m\u001b[0;34m.\u001b[0m\u001b[0mshuffle\u001b[0m\u001b[0;34m(\u001b[0m\u001b[0mchar\u001b[0m\u001b[0;34m,\u001b[0m\u001b[0;36m1\u001b[0m\u001b[0;34m,\u001b[0m \u001b[0;36m1\u001b[0m\u001b[0;34m)\u001b[0m\u001b[0;34m)\u001b[0m\u001b[0;34m\u001b[0m\u001b[0;34m\u001b[0m\u001b[0m\n\u001b[0m",
      "\u001b[0;31mTypeError\u001b[0m: shuffle() takes from 2 to 3 positional arguments but 4 were given"
     ]
    }
   ],
   "source": [
    "for i in range(15):\n",
    "    print(random.shuffle(char,1, 1))"
   ]
  },
  {
   "cell_type": "code",
   "execution_count": 80,
   "metadata": {},
   "outputs": [
    {
     "name": "stdout",
     "output_type": "stream",
     "text": [
      "['MAN', 'CYPHER', 'SCREEN', 'BIG COP', 'LIEUTENANT', 'MORPHEUS', 'NEO', 'TRINITY', 'RADIO', 'WOMAN', 'ANTHONY', 'AGENT JONES', 'AGENT SMITH', 'DUJOUR', 'COP']\n",
      "['The area code is identified.  The first three numbers suddenly fixed, leaving only seven flowing columns.']\n",
      "['NEO', 'RADIO', 'AGENT JONES', 'AGENT SMITH', 'CYPHER', 'ANTHONY', 'MAN', 'SCREEN', 'WOMAN', 'TRINITY', 'DUJOUR', 'LIEUTENANT', 'COP', 'MORPHEUS', 'BIG COP']\n",
      "['The area code is identified.  The first three numbers suddenly fixed, leaving only seven flowing columns.']\n",
      "['BIG COP', 'AGENT SMITH', 'SCREEN', 'MAN', 'RADIO', 'DUJOUR', 'CYPHER', 'WOMAN', 'AGENT JONES', 'ANTHONY', 'NEO', 'LIEUTENANT', 'TRINITY', 'MORPHEUS', 'COP']\n",
      "['So close it has no boundaries.']\n",
      "['MAN', 'WOMAN', 'COP', 'AGENT JONES', 'TRINITY', 'DUJOUR', 'SCREEN', 'LIEUTENANT', 'CYPHER', 'NEO', 'ANTHONY', 'AGENT SMITH', 'MORPHEUS', 'RADIO', 'BIG COP']\n",
      "['Where gradually the sound of a police radio grows around us.']\n",
      "['AGENT JONES', 'ANTHONY', 'AGENT SMITH', 'DUJOUR', 'SCREEN', 'CYPHER', 'WOMAN', 'LIEUTENANT', 'TRINITY', 'MORPHEUS', 'BIG COP', 'NEO', 'RADIO', 'COP', 'MAN']\n",
      "['She hangs up as we PASS THROUGH the numbers, entering the netherworld of the computer screen.']\n",
      "['DUJOUR', 'SCREEN', 'AGENT JONES', 'AGENT SMITH', 'ANTHONY', 'MAN', 'BIG COP', 'WOMAN', 'COP', 'NEO', 'LIEUTENANT', 'MORPHEUS', 'TRINITY', 'CYPHER', 'RADIO']\n",
      "[\"We listen to the phone conversation as though we were on a third line.  The man's name is CYPHER.\"]\n",
      "['WOMAN', 'COP', 'AGENT JONES', 'AGENT SMITH', 'TRINITY', 'MAN', 'NEO', 'SCREEN', 'ANTHONY', 'LIEUTENANT', 'MORPHEUS', 'RADIO', 'BIG COP', 'DUJOUR', 'CYPHER']\n",
      "['Suddenly, a flashlight cuts open the darkness and we find ourselves in --']\n",
      "['CYPHER', 'WOMAN', 'ANTHONY', 'RADIO', 'DUJOUR', 'AGENT SMITH', 'MAN', 'BIG COP', 'COP', 'LIEUTENANT', 'AGENT JONES', 'MORPHEUS', 'NEO', 'SCREEN', 'TRINITY']\n",
      "[\"We listen to the phone conversation as though we were on a third line.  The man's name is CYPHER.\"]\n",
      "['MORPHEUS', 'ANTHONY', 'BIG COP', 'TRINITY', 'MAN', 'CYPHER', 'COP', 'AGENT SMITH', 'WOMAN', 'AGENT JONES', 'RADIO', 'DUJOUR', 'LIEUTENANT', 'SCREEN', 'NEO']\n",
      "['The area code is identified.  The first three numbers suddenly fixed, leaving only seven flowing columns.']\n",
      "['AGENT SMITH', 'LIEUTENANT', 'NEO', 'BIG COP', 'CYPHER', 'MAN', 'WOMAN', 'SCREEN', 'COP', 'TRINITY', 'RADIO', 'AGENT JONES', 'ANTHONY', 'MORPHEUS', 'DUJOUR']\n",
      "['Where gradually the sound of a police radio grows around us.']\n",
      "['DUJOUR', 'AGENT JONES', 'MORPHEUS', 'SCREEN', 'CYPHER', 'RADIO', 'ANTHONY', 'LIEUTENANT', 'WOMAN', 'TRINITY', 'MAN', 'AGENT SMITH', 'NEO', 'COP', 'BIG COP']\n",
      "['The hotel was abandoned after a fire licked its way across the polyester carpeting, destroying several rooms as it spooled soot up the walls and ceiling leaving patterns of permanent shadow.']\n",
      "['WOMAN', 'BIG COP', 'AGENT JONES', 'LIEUTENANT', 'MAN', 'SCREEN', 'NEO', 'RADIO', 'CYPHER', 'TRINITY', 'AGENT SMITH', 'ANTHONY', 'DUJOUR', 'MORPHEUS', 'COP']\n",
      "[\"We listen to the phone conversation as though we were on a third line.  The man's name is CYPHER.\"]\n",
      "['CYPHER', 'ANTHONY', 'MAN', 'LIEUTENANT', 'BIG COP', 'WOMAN', 'MORPHEUS', 'DUJOUR', 'AGENT JONES', 'RADIO', 'SCREEN', 'TRINITY', 'AGENT SMITH', 'NEO', 'COP']\n",
      "['So close it has no boundaries.']\n",
      "['AGENT SMITH', 'WOMAN', 'COP', 'RADIO', 'SCREEN', 'CYPHER', 'BIG COP', 'AGENT JONES', 'NEO', 'ANTHONY', 'LIEUTENANT', 'MAN', 'DUJOUR', 'TRINITY', 'MORPHEUS']\n",
      "['Where gradually the sound of a police radio grows around us.']\n",
      "['BIG COP', 'AGENT SMITH', 'MAN', 'ANTHONY', 'AGENT JONES', 'TRINITY', 'WOMAN', 'CYPHER', 'MORPHEUS', 'NEO', 'SCREEN', 'RADIO', 'COP', 'DUJOUR', 'LIEUTENANT']\n",
      "['']\n"
     ]
    }
   ],
   "source": [
    "for i in range(15):\n",
    "    print(random.sample(char,15))\n",
    "    print(random.sample(matrix,1))"
   ]
  },
  {
   "cell_type": "code",
   "execution_count": 81,
   "metadata": {},
   "outputs": [
    {
     "name": "stdout",
     "output_type": "stream",
     "text": [
      "MAN\n",
      "LIEUTENANT\n",
      "AGENT JONES\n",
      "DUJOUR\n",
      "AGENT JONES\n",
      "SCREEN\n",
      "COP\n",
      "NEO\n",
      "NEO\n",
      "BIG COP\n",
      "DUJOUR\n",
      "DUJOUR\n",
      "SCREEN\n",
      "TRINITY\n",
      "NEO\n"
     ]
    }
   ],
   "source": [
    "for i in range(15):\n",
    "    print('\\n'.join(random.sample(char,1)))"
   ]
  },
  {
   "cell_type": "markdown",
   "metadata": {},
   "source": [
    "> Up to this point, I still wasn't able to fully accomplished a format that would resemble an original script. So with some help, I figured that a for loop would work in my case. This is my final result:"
   ]
  },
  {
   "cell_type": "code",
   "execution_count": 82,
   "metadata": {},
   "outputs": [
    {
     "name": "stdout",
     "output_type": "stream",
     "text": [
      "AGENT JONES\n",
      "The area code is identified.  The first three numbers suddenly fixed, leaving only seven flowing columns.\n",
      "AGENT SMITH\n",
      "The final number pops into place --\n",
      "DUJOUR\n",
      "\n",
      "CYPHER\n",
      "Suddenly, a flashlight cuts open the darkness and we find ourselves in --\n",
      "RADIO\n",
      "Only two thin digits left.\n",
      "BIG COP\n",
      "Suddenly, a flashlight cuts open the darkness and we find ourselves in --\n",
      "BIG COP\n",
      "She hangs up as we PASS THROUGH the numbers, entering the netherworld of the computer screen.\n",
      "DUJOUR\n",
      "Only two thin digits left.\n",
      "AGENT JONES\n",
      "So close it has no boundaries.\n",
      "BIG COP\n",
      "We listen to the phone conversation as though we were on a third line.  The man's name is CYPHER.\n",
      "TRINITY\n",
      "Only two thin digits left.\n",
      "BIG COP\n",
      "She hangs up as we PASS THROUGH the numbers, entering the netherworld of the computer screen.\n",
      "ANTHONY\n",
      "We listen to the phone conversation as though we were on a third line.  The man's name is CYPHER.\n",
      "SCREEN\n",
      "The hotel was abandoned after a fire licked its way across the polyester carpeting, destroying several rooms as it spooled soot up the walls and ceiling leaving patterns of permanent shadow.\n",
      "TRINITY\n",
      "The area code is identified.  The first three numbers suddenly fixed, leaving only seven flowing columns.\n"
     ]
    }
   ],
   "source": [
    "for i in range(15):\n",
    "    print('\\n'.join(random.sample(char,1)))\n",
    "    print('\\n'.join(random.sample(matrix,1)))"
   ]
  },
  {
   "cell_type": "markdown",
   "metadata": {},
   "source": [
    "> Even though I somehow achieved my initial purpose, I realized how much potential a movie script has and how I can still iterate this excercise. Also I would've liked to process the script as one rough text file instead of cleaning it beforehand. "
   ]
  }
 ],
 "metadata": {
  "kernelspec": {
   "display_name": "Python 3",
   "language": "python",
   "name": "python3"
  },
  "language_info": {
   "codemirror_mode": {
    "name": "ipython",
    "version": 3
   },
   "file_extension": ".py",
   "mimetype": "text/x-python",
   "name": "python",
   "nbconvert_exporter": "python",
   "pygments_lexer": "ipython3",
   "version": "3.7.1"
  }
 },
 "nbformat": 4,
 "nbformat_minor": 2
}
