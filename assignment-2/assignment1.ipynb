{
 "cells": [
  {
   "cell_type": "markdown",
   "metadata": {},
   "source": [
    "# What's Gender Got To Do With It?\n",
    "\n",
    "Code example: [Allison Parrish](http://www.decontextualize.com/)\n",
    "\n",
    "This notebook has a poem generated from a printed version of the article \"What's Gender Got To Do With It?\" by Amber Billey, Emily Drabinski and K.R. Roberto. "
   ]
  },
  {
   "cell_type": "code",
   "execution_count": 3,
   "metadata": {},
   "outputs": [
    {
     "name": "stdout",
     "output_type": "stream",
     "text": [
      " relevance of gender as a\n",
      "descriptive attribute  does\n",
      "not akcnowledge the fluidity\n",
      "and variety of possible gender\n",
      "identity or identities\n",
      "natural and binary by many\n",
      "people  female from a glance\n",
      "at the title page  I wear a\n",
      "women's hair and carry a purse\n",
      "gender as female  decision to\n",
      "forego marking the ethnicity\n",
      "of authors  several sources\n",
      "for deriving the list of\n",
      "attributes for persons  the\n",
      "fact that the author had a\n",
      "feminine name was sufficient\n",
      "to direct  really  many\n",
      "transgender people don't\n",
      "really  cisgender is a term\n",
      "commonly used  or uses no\n",
      "pronouns at all  not who you\n",
      "go to bed with  useful for\n",
      "unisex  construct authority\n",
      "pages for authors  describe\n",
      "you don't have any authorized\n",
      "terminology for fuzzy areas\n",
      "gender is not a core or\n",
      "require  marking an author's\n",
      "gender would allow users\n",
      "seeking   unknown is listed as\n",
      "the only  or uses they and\n",
      "their or ze and hir  passively\n",
      "hostile  gender identities are\n",
      "complex  our work wasn't\n",
      "boring to this author  include\n",
      "any information about a person\n",
      "gender  look like  ways of\n",
      "conceptualizing sex and gender\n",
      "that challenge   appropiate\n",
      "term (female, male, not\n",
      "known), and, if none of the\n",
      "terms are appropriate, record\n",
      "I am not transgedered I am\n",
      "just a gay male  interested in\n",
      "the author's gender\n"
     ]
    }
   ],
   "source": [
    "import random\n",
    "import textwrap\n",
    "\n",
    "newspaper = \"\"\"\n",
    "our work wasn't boring to this author. cisgender is a term commonly used. female from a glance at the title page. interested in the author's gender. the fact that the author had a feminine name was sufficient to direct.\n",
    "not who you go to bed with. ways of conceptualizing sex and gender that challenge. really. really. relevance of gender as a descriptive attribute.\n",
    "passively hostile. describe. include any information about a person gender. several sources for deriving the list of attributes for persons.\n",
    "appropiate term (female, male, not known), and, if none of the terms are appropriate, record. does not akcnowledge the fluidity and variety of\n",
    "possible gender identity or identities. natural and binary by many people. gender identities are complex. or uses they and their or ze and hir. or uses no pronouns at all. \n",
    "unknown is listed as the only. many transgender people don't. you don't have any authorized terminology for fuzzy areas. look like. useful for unisex.\n",
    "gender as female. I am not transgedered I am just a gay male. I wear a women's hair and carry a purse. gender is not a core or require. construct authority pages for authors.\n",
    "marking an author's gender would allow users seeking. decision to forego marking the ethnicity of authors.\"\"\"\n",
    "\n",
    "words = newspaper.split(\".\")\n",
    "random.shuffle(words)\n",
    "\n",
    "print(textwrap.fill(\" \".join(words), 30))"
   ]
  }
 ],
 "metadata": {
  "kernelspec": {
   "display_name": "Python 3",
   "language": "python",
   "name": "python3"
  },
  "language_info": {
   "codemirror_mode": {
    "name": "ipython",
    "version": 3
   },
   "file_extension": ".py",
   "mimetype": "text/x-python",
   "name": "python",
   "nbconvert_exporter": "python",
   "pygments_lexer": "ipython3",
   "version": "3.7.1"
  }
 },
 "nbformat": 4,
 "nbformat_minor": 2
}
